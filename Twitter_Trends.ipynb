{
  "nbformat": 4,
  "nbformat_minor": 0,
  "metadata": {
    "colab": {
      "name": "Twitter Trends.ipynb",
      "provenance": [],
      "collapsed_sections": [],
      "mount_file_id": "1qG1KfSuEzy0LlSTeMnTZIHXKCUzW6v9Q",
      "authorship_tag": "ABX9TyNVgLpBC/Vdf5gABK/zzX+0",
      "include_colab_link": true
    },
    "kernelspec": {
      "display_name": "Python 3",
      "name": "python3"
    },
    "language_info": {
      "name": "python"
    }
  },
  "cells": [
    {
      "cell_type": "markdown",
      "metadata": {
        "id": "view-in-github",
        "colab_type": "text"
      },
      "source": [
        "<a href=\"https://colab.research.google.com/github/tibor/Twitter-Trends/blob/main/Twitter_Trends.ipynb\" target=\"_parent\"><img src=\"https://colab.research.google.com/assets/colab-badge.svg\" alt=\"Open In Colab\"/></a>"
      ]
    },
    {
      "cell_type": "code",
      "metadata": {
        "id": "30va_noIwDb8"
      },
      "source": [
        "!pip install colab-env --upgrade\n",
        "\n",
        "import requests\n",
        "from requests_oauthlib import OAuth2\n",
        "from collections import Counter\n",
        "import os\n",
        "import colab_env\n",
        "from urllib.parse import quote\n",
        "import pandas as pd\n",
        "import time\n",
        "from datetime import datetime\n",
        "from dateutil.parser import parse\n",
        "\n",
        "pd.set_option('display.max_colwidth', None)\n",
        "\n",
        "base_url = 'https://api.twitter.com/1.1/search/tweets.json{}&tweet_mode=extended'\n",
        "\n",
        "headers = {\n",
        "    'authorization': os.getenv('TWITTER_OAUTH_2')\n",
        "}"
      ],
      "execution_count": null,
      "outputs": []
    },
    {
      "cell_type": "code",
      "metadata": {
        "id": "V5uCKjEN3KjZ"
      },
      "source": [
        "#@title Suchbegriff eingeben\n",
        "\n",
        "text = \"#laschetwusstees\" #@param {type:\"string\"}\n",
        "df = pd.DataFrame(columns=('ID', 'Retweets', 'Faves', 'Count', 'Text', 'Screen Name', 'Timestamp'))\n",
        "\n",
        "next_results = '?q=' + quote( text ) + '%20exclude%3Anativeretweets'\n",
        "print('Started searching..')\n",
        "users = []\n",
        "tweets = {}\n",
        "tweets_dict = {}\n",
        "oldest_tweet = datetime.now().strftime('%Y%m%d%H%M%S')\n",
        "\n",
        "z = 0\n",
        "\n",
        "while next_results:\n",
        "  z += 1\n",
        "  req = requests.get( base_url.format( next_results ), headers=headers ).json()\n",
        "  #print( z )\n",
        "\n",
        "  if 'statuses' in req:\n",
        "    for status in req['statuses']:\n",
        "      try:\n",
        "        status_text = status['full_text']\n",
        "      except:\n",
        "        status_text = status['text']\n",
        "      df.loc[len(df)] = [\n",
        "        status['id'],\n",
        "        status['retweet_count'],\n",
        "        status['favorite_count'],\n",
        "        status['retweet_count'] + status['favorite_count'],\n",
        "        status_text,\n",
        "        status['user']['screen_name'],\n",
        "        status['created_at']\n",
        "      ]\n",
        "      oldest_tweet = status['created_at'] if parse(status['created_at']).strftime('%Y%m%d%H%M%S') < oldest_tweet else oldest_tweet\n",
        "      id = status['id']\n",
        "      tweets[id] = status['retweet_count']\n",
        "      tweets_dict[id] = (status_text, status['user']['screen_name'], status['created_at'])\n",
        "      users.append( status['user']['screen_name'] )\n",
        "  if 'search_metadata' in req and 'next_results' in req['search_metadata']:\n",
        "    next_results = req.get('search_metadata').get('next_results')\n",
        "  elif 'errors' in req and req['errors'][0]['code'] == 88:\n",
        "    print('API Limit reached. Collecting more tweets will start automatically in 15 minutes again. The oldest tweet yet is from {}'.format(oldest_tweet))\n",
        "    time.sleep(900)\n",
        "    print('API Limit should be free again. Script will continue to search for Tweets automatically')\n",
        "  elif 'errors' in req:\n",
        "    print(req)\n",
        "  else:\n",
        "    next_results = None\n",
        "    print( 'Search ended succesfully' )"
      ],
      "execution_count": null,
      "outputs": []
    },
    {
      "cell_type": "code",
      "metadata": {
        "id": "dDR8j4rZFrvd"
      },
      "source": [
        "df = df.sort_values('Retweets', ascending=False)\n",
        "\n",
        "for x in range(10):\n",
        "  print(\n",
        "      '________\\n',\n",
        "      '{} Retweets: https://twitter.com/{}/status/{}'.format(\n",
        "          df.iloc[x]['Retweets'],\n",
        "          df.iloc[x]['Screen Name'],\n",
        "          df.iloc[x]['ID']\n",
        "      ),\n",
        "      '\\n',\n",
        "      df.iloc[x]['Text']\n",
        "  )\n",
        "\n",
        "df = df.sort_values('Timestamp')\n",
        "print( df.iloc[0] )\n",
        "\n",
        "users = Counter( users ).most_common()\n",
        "for i in range(50):\n",
        "  print( i, users[i] )"
      ],
      "execution_count": null,
      "outputs": []
    }
  ]
}